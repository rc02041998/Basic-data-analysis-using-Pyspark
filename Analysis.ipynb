{
 "cells": [
  {
   "cell_type": "markdown",
   "id": "e86fee75",
   "metadata": {},
   "source": [
    "### Basic Data Analysis using pyspark"
   ]
  },
  {
   "cell_type": "code",
   "execution_count": 25,
   "id": "25078cd9",
   "metadata": {},
   "outputs": [
    {
     "name": "stdout",
     "output_type": "stream",
     "text": [
      "<pyspark.sql.session.SparkSession object at 0x11a2707f0>\n"
     ]
    }
   ],
   "source": [
    "from pyspark.sql import SparkSession\n",
    "from pyspark.sql.types import StringType\n",
    "from pyspark.sql.functions import col, isnan, when, count, udf, year, month, to_date, mean\n",
    "import pyspark.sql.functions as F\n",
    "import seaborn as sns\n",
    "import matplotlib.pyplot as plt\n",
    "\n",
    "\n",
    "spark = SparkSession.builder.getOrCreate()\n",
    "print(spark)"
   ]
  },
  {
   "cell_type": "code",
   "execution_count": 26,
   "id": "09e9c576",
   "metadata": {},
   "outputs": [
    {
     "name": "stdout",
     "output_type": "stream",
     "text": [
      "+--------------------+-------------+-----------+-----------------+------------------------+--------+------------------+----------------------+------------------+----------+--------------------+--------------------+\n",
      "|      Formatted Date|      Summary|Precip Type|  Temperature (C)|Apparent Temperature (C)|Humidity| Wind Speed (km/h)|Wind Bearing (degrees)|   Visibility (km)|Loud Cover|Pressure (millibars)|       Daily Summary|\n",
      "+--------------------+-------------+-----------+-----------------+------------------------+--------+------------------+----------------------+------------------+----------+--------------------+--------------------+\n",
      "|2006-04-01 00:00:...|Partly Cloudy|       rain|9.472222222222221|      7.3888888888888875|    0.89|           14.1197|                 251.0|15.826300000000002|       0.0|             1015.13|Partly cloudy thr...|\n",
      "|2006-04-01 01:00:...|Partly Cloudy|       rain|9.355555555555558|       7.227777777777776|    0.86|           14.2646|                 259.0|15.826300000000002|       0.0|             1015.63|Partly cloudy thr...|\n",
      "|2006-04-01 02:00:...|Mostly Cloudy|       rain|9.377777777777778|       9.377777777777778|    0.89|3.9284000000000003|                 204.0|           14.9569|       0.0|             1015.94|Partly cloudy thr...|\n",
      "|2006-04-01 03:00:...|Partly Cloudy|       rain| 8.28888888888889|       5.944444444444446|    0.83|           14.1036|                 269.0|15.826300000000002|       0.0|             1016.41|Partly cloudy thr...|\n",
      "|2006-04-01 04:00:...|Mostly Cloudy|       rain|8.755555555555553|       6.977777777777779|    0.83|           11.0446|                 259.0|15.826300000000002|       0.0|             1016.51|Partly cloudy thr...|\n",
      "+--------------------+-------------+-----------+-----------------+------------------------+--------+------------------+----------------------+------------------+----------+--------------------+--------------------+\n",
      "\n"
     ]
    },
    {
     "name": "stderr",
     "output_type": "stream",
     "text": [
      "\r",
      "                                                                                \r"
     ]
    }
   ],
   "source": [
    "def load_dataframe(filename):\n",
    "    df = spark.read.format('csv').options(header='true').load(filename)\n",
    "    return df\n",
    "\n",
    "#creating a dataframe\n",
    "df = load_dataframe('weatherHistory.csv')\n",
    "df.limit(5).show()"
   ]
  },
  {
   "cell_type": "code",
   "execution_count": 27,
   "id": "e8109440",
   "metadata": {},
   "outputs": [
    {
     "name": "stdout",
     "output_type": "stream",
     "text": [
      "root\n",
      " |-- Formatted Date: string (nullable = true)\n",
      " |-- Summary: string (nullable = true)\n",
      " |-- Precip Type: string (nullable = true)\n",
      " |-- Temperature (C): string (nullable = true)\n",
      " |-- Apparent Temperature (C): string (nullable = true)\n",
      " |-- Humidity: string (nullable = true)\n",
      " |-- Wind Speed (km/h): string (nullable = true)\n",
      " |-- Wind Bearing (degrees): string (nullable = true)\n",
      " |-- Visibility (km): string (nullable = true)\n",
      " |-- Loud Cover: string (nullable = true)\n",
      " |-- Pressure (millibars): string (nullable = true)\n",
      " |-- Daily Summary: string (nullable = true)\n",
      "\n"
     ]
    }
   ],
   "source": [
    "df.printSchema()"
   ]
  },
  {
   "cell_type": "code",
   "execution_count": 28,
   "id": "4e14acd5",
   "metadata": {},
   "outputs": [],
   "source": [
    "def rename_multiple_columns(df, columns):\n",
    "    if isinstance(columns, dict):\n",
    "        for old_name, new_name in columns.items():\n",
    "            df = df.withColumnRenamed(old_name, new_name)\n",
    "        return df\n",
    "    else:\n",
    "        raise ValueError(\"columns need to be in dict format {'existing_name_a':'new_name_a'}\")\n",
    "\n",
    "dict_columns = {\n",
    "    \"Formatted Date\": \"date\",\n",
    "    \"Summary\": \"Summary\",\n",
    "    \"Precip Type\": \"precip\",\n",
    "    \"Temperature (C)\": \"Temperature\",\n",
    "    \"Apparent Temperature (C)\": \"app_Temperature\",\n",
    "    \"Humidity\": \"Humidity\",\n",
    "    \"Wind Speed (km/h)\": \"Wind_Speed\",\n",
    "    \"Wind Bearing (degrees)\": \"Wind_Bearing\",\n",
    "    \"Visibility (km)\": \"Visibility\",\n",
    "    \"Loud Cover\": \"Loud_Cover\",\n",
    "    \"Pressure (millibars)\": \"Pressure\",\n",
    "    \"Daily Summary\": \"Daily_Summary\"\n",
    "}\n",
    "\n",
    "# Assuming df_matches is a PySpark DataFrame\n",
    "df_renamed = rename_multiple_columns(df, dict_columns)\n"
   ]
  },
  {
   "cell_type": "code",
   "execution_count": 29,
   "id": "2cc2d97d",
   "metadata": {},
   "outputs": [
    {
     "name": "stdout",
     "output_type": "stream",
     "text": [
      "root\n",
      " |-- date: string (nullable = true)\n",
      " |-- Summary: string (nullable = true)\n",
      " |-- precip: string (nullable = true)\n",
      " |-- Temperature: string (nullable = true)\n",
      " |-- app_Temperature: string (nullable = true)\n",
      " |-- Humidity: string (nullable = true)\n",
      " |-- Wind_Speed: string (nullable = true)\n",
      " |-- Wind_Bearing: string (nullable = true)\n",
      " |-- Visibility: string (nullable = true)\n",
      " |-- Loud_Cover: string (nullable = true)\n",
      " |-- Pressure: string (nullable = true)\n",
      " |-- Daily_Summary: string (nullable = true)\n",
      "\n"
     ]
    }
   ],
   "source": [
    "df_renamed.printSchema()"
   ]
  },
  {
   "cell_type": "code",
   "execution_count": 30,
   "id": "14f45a15",
   "metadata": {},
   "outputs": [
    {
     "name": "stdout",
     "output_type": "stream",
     "text": [
      "+--------------------+-------------+------+-----------------+------------------+--------+------------------+------------+------------------+----------+--------+--------------------+\n",
      "|                date|      Summary|precip|      Temperature|   app_Temperature|Humidity|        Wind_Speed|Wind_Bearing|        Visibility|Loud_Cover|Pressure|       Daily_Summary|\n",
      "+--------------------+-------------+------+-----------------+------------------+--------+------------------+------------+------------------+----------+--------+--------------------+\n",
      "|2006-04-01 00:00:...|Partly Cloudy|  rain|9.472222222222221|7.3888888888888875|    0.89|           14.1197|       251.0|15.826300000000002|       0.0| 1015.13|Partly cloudy thr...|\n",
      "|2006-04-01 01:00:...|Partly Cloudy|  rain|9.355555555555558| 7.227777777777776|    0.86|           14.2646|       259.0|15.826300000000002|       0.0| 1015.63|Partly cloudy thr...|\n",
      "|2006-04-01 02:00:...|Mostly Cloudy|  rain|9.377777777777778| 9.377777777777778|    0.89|3.9284000000000003|       204.0|           14.9569|       0.0| 1015.94|Partly cloudy thr...|\n",
      "|2006-04-01 03:00:...|Partly Cloudy|  rain| 8.28888888888889| 5.944444444444446|    0.83|           14.1036|       269.0|15.826300000000002|       0.0| 1016.41|Partly cloudy thr...|\n",
      "|2006-04-01 04:00:...|Mostly Cloudy|  rain|8.755555555555553| 6.977777777777779|    0.83|           11.0446|       259.0|15.826300000000002|       0.0| 1016.51|Partly cloudy thr...|\n",
      "+--------------------+-------------+------+-----------------+------------------+--------+------------------+------------+------------------+----------+--------+--------------------+\n",
      "\n"
     ]
    }
   ],
   "source": [
    "df_renamed.limit(5).show()"
   ]
  },
  {
   "cell_type": "code",
   "execution_count": 31,
   "id": "485d1a80",
   "metadata": {},
   "outputs": [
    {
     "name": "stdout",
     "output_type": "stream",
     "text": [
      "FIRST RECORDS\n",
      "                            date        Summary precip        Temperature  \\\n",
      "0  2006-04-01 00:00:00.000 +0200  Partly Cloudy   rain  9.472222222222221   \n",
      "1  2006-04-01 01:00:00.000 +0200  Partly Cloudy   rain  9.355555555555558   \n",
      "\n",
      "      app_Temperature Humidity Wind_Speed Wind_Bearing          Visibility  \\\n",
      "0  7.3888888888888875     0.89    14.1197        251.0  15.826300000000002   \n",
      "1   7.227777777777776     0.86    14.2646        259.0  15.826300000000002   \n",
      "\n",
      "  Loud_Cover Pressure                      Daily_Summary  \n",
      "0        0.0  1015.13  Partly cloudy throughout the day.  \n",
      "1        0.0  1015.63  Partly cloudy throughout the day.  \n",
      "COUNT NULL VALUES\n",
      "Empty DataFrame\n",
      "Columns: []\n",
      "Index: [0, 1, 2, 3, 4, 5, 6, 7, 8, 9, 10, 11, 12, 13, 14, 15, 16, 17, 18, 19, 20, 21, 22, 23, 24, 25, 26, 27, 28, 29, 30, 31, 32, 33, 34, 35, 36, 37, 38, 39, 40, 41, 42, 43, 44, 45, 46, 47, 48, 49, 50, 51, 52, 53, 54, 55, 56, 57, 58, 59, 60, 61, 62, 63, 64, 65, 66, 67, 68, 69, 70, 71, 72, 73, 74, 75, 76, 77, 78, 79, 80, 81, 82, 83, 84, 85, 86, 87, 88, 89, 90, 91, 92, 93, 94, 95, 96, 97, 98, 99, ...]\n",
      "\n",
      "[96453 rows x 0 columns]\n",
      "DUPLICATES:\n",
      "                            date  count\n",
      "0  2010-08-02 11:00:00.000 +0200      2\n",
      "1  2010-08-02 19:00:00.000 +0200      2\n",
      "2  2010-08-02 22:00:00.000 +0200      2\n",
      "3  2010-08-02 03:00:00.000 +0200      2\n",
      "4  2010-08-02 18:00:00.000 +0200      2\n",
      "PRINT SCHEMA\n",
      "root\n",
      " |-- date: string (nullable = true)\n",
      " |-- Summary: string (nullable = true)\n",
      " |-- precip: string (nullable = true)\n",
      " |-- Temperature: string (nullable = true)\n",
      " |-- app_Temperature: string (nullable = true)\n",
      " |-- Humidity: string (nullable = true)\n",
      " |-- Wind_Speed: string (nullable = true)\n",
      " |-- Wind_Bearing: string (nullable = true)\n",
      " |-- Visibility: string (nullable = true)\n",
      " |-- Loud_Cover: string (nullable = true)\n",
      " |-- Pressure: string (nullable = true)\n",
      " |-- Daily_Summary: string (nullable = true)\n",
      "\n",
      "None\n"
     ]
    }
   ],
   "source": [
    "def quick_overview(df):\n",
    "   # display the spark dataframe\n",
    "   print(\"FIRST RECORDS\")\n",
    "   print(df.limit(2).sort(col(\"Formatted Date\"), ascending=True).toPandas())\n",
    "\n",
    "   # count null values\n",
    "   print(\"COUNT NULL VALUES\")\n",
    "   print(df.select([count(when(isnan(c) | col(c).isNull(), c)).alias(c) for c, y in df.dtypes if y in [\"double\", \"float\"]]\n",
    "      ).toPandas())\n",
    "\n",
    "#    print(\"DESCRIBE STATISTICS\")\n",
    "#    print(df.describe().toPandas())\n",
    "#    Alternatively to get the max value, we could use max_value = df.agg({\"precipitation\": \"max\"}).collect()[0][0]\n",
    "\n",
    "   # check for dublicates\n",
    "   dublicates = df.groupby(df.date) \\\n",
    "    .count() \\\n",
    "    .where('count > 1') \\\n",
    "    .limit(5).toPandas()\n",
    "    \n",
    "   print(\"DUPLICATES:\")\n",
    "   print(dublicates)\n",
    "\n",
    "   # print schema\n",
    "   print(\"PRINT SCHEMA\")\n",
    "   print(df.printSchema())\n",
    "\n",
    "quick_overview(df_renamed)"
   ]
  },
  {
   "cell_type": "code",
   "execution_count": 32,
   "id": "9597fac1",
   "metadata": {},
   "outputs": [],
   "source": [
    "from pyspark.sql.functions import col, isnan, when, count, udf, year, month, to_date, mean\n",
    "def binner(Temperature):\n",
    "        if (Temperature is None):\n",
    "            return \"unknown\"\n",
    "        else:\n",
    "            if Temperature < -10:\n",
    "                return \"freezing cold\"\n",
    "            elif Temperature < -5:\n",
    "                return \"very cold\"\n",
    "            elif Temperature < 0:\n",
    "                return \"cold\"\n",
    "            elif Temperature < 10:\n",
    "                return \"normal\"\n",
    "            elif Temperature < 20:\n",
    "                return \"warm\"\n",
    "            elif Temperature < 30:\n",
    "                return \"hot\"\n",
    "            elif Temperature >= 30:\n",
    "                return \"very hot\"\n",
    "        return \"normal\"\n",
    "\n",
    "\n",
    "udf_binner_temp = udf(binner, StringType() )\n",
    "df_renamed = df_renamed.withColumn(\"temp_buckets\", udf_binner_temp(col(\"Temperature\")))\n"
   ]
  },
  {
   "cell_type": "code",
   "execution_count": null,
   "id": "c25545ab",
   "metadata": {},
   "outputs": [],
   "source": []
  }
 ],
 "metadata": {
  "kernelspec": {
   "display_name": "Python 3 (ipykernel)",
   "language": "python",
   "name": "python3"
  },
  "language_info": {
   "codemirror_mode": {
    "name": "ipython",
    "version": 3
   },
   "file_extension": ".py",
   "mimetype": "text/x-python",
   "name": "python",
   "nbconvert_exporter": "python",
   "pygments_lexer": "ipython3",
   "version": "3.9.13"
  }
 },
 "nbformat": 4,
 "nbformat_minor": 5
}
